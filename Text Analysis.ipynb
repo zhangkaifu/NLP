{
 "cells": [
  {
   "cell_type": "markdown",
   "metadata": {},
   "source": [
    "#   实践课题报告： 大数据文本分析与应用\n",
    "    \n",
    "   #### 学       校：西南林业大学\n",
    "   #### 学       院：大数据与智能工程学院\n",
    "   #### 专       业：信息工程（数据科学与大数据技术）\n",
    "   #### 年       级：2017级\n",
    "   #### 学       号：20171257028\n",
    "   #### 姓       名：张开富\n",
    "   #### 指导老师：赵友杰\n",
    "   #### 日       期：2019 年 6 月 27 日 至  29 日"
   ]
  },
  {
   "cell_type": "markdown",
   "metadata": {},
   "source": [
    "# 实习要求：\n",
    "        使用Python，实现对英文小说的词频解析，并将每章的词频结果存入到Mysql数据库中。\n",
    "    开发简易信息系统，实现对某篇小说的词频查询。"
   ]
  },
  {
   "cell_type": "markdown",
   "metadata": {},
   "source": [
    "# 第一步：读取数据，并进行预处理 "
   ]
  },
  {
   "cell_type": "code",
   "execution_count": 1,
   "metadata": {},
   "outputs": [],
   "source": [
    "#获取数据并对其进行去空行,空白处理\n",
    "def get_data( filename):\n",
    "    data = ''\n",
    "    with open(filename, \"r\") as f:\n",
    "        for line in f.readlines():\n",
    "            line = line.rstrip() #去掉列表右边的空白\n",
    "            line = line.lstrip() #去掉列表左边的空白\n",
    "            #全变为小写\n",
    "            #line = line.lower()\n",
    "            #将特殊字符替换为空格\n",
    "            for ch in '!\"#$%@~`^&*\\'\\“”’。，()_-+=/{\\\\}[|]?.><,/;':\n",
    "                line = line.replace(ch, \" \") \n",
    "            if line is not '':\n",
    "                data = data+line+' '\n",
    "    return data"
   ]
  },
  {
   "cell_type": "code",
   "execution_count": 70,
   "metadata": {},
   "outputs": [],
   "source": [
    "# txt文件和当前脚本在同一目录下，所以不用写具体路径\n",
    "filename = 'Two_Cities.txt'"
   ]
  },
  {
   "cell_type": "code",
   "execution_count": 71,
   "metadata": {},
   "outputs": [],
   "source": [
    "data=get_data(filename)"
   ]
  },
  {
   "cell_type": "code",
   "execution_count": null,
   "metadata": {},
   "outputs": [],
   "source": []
  },
  {
   "cell_type": "markdown",
   "metadata": {},
   "source": [
    "# 第二步：按章节进行分词和统计"
   ]
  },
  {
   "cell_type": "code",
   "execution_count": 78,
   "metadata": {},
   "outputs": [],
   "source": [
    "#获取章节单词 ,key=\"CHAPTER\",章节分割词\n",
    "def get_chapter_word(key ,data):\n",
    "    #分词\n",
    "    words = data.split()\n",
    "    chapters ={}\n",
    "    j=0\n",
    "    for word in words:\n",
    "        if(word == key):\n",
    "                j+=1\n",
    "        if j == 0:\n",
    "            chapters['book'] = chapters.get('book','')+word+\" \"\n",
    "        else:\n",
    "            keys = key+str(j)\n",
    "            chapters[keys] = chapters.get(keys,'')+word+\" \"\n",
    "    chapter_words = list(chapters.items())\n",
    "    return chapter_words"
   ]
  },
  {
   "cell_type": "code",
   "execution_count": 5,
   "metadata": {},
   "outputs": [],
   "source": [
    "#按按章节进行词频统计\n",
    "def word_count(chapter_word):\n",
    "     #全变为小写\n",
    "    chapter_word = chapter_word.lower()\n",
    "    words = chapter_word.split()\n",
    "    #字典存储单词和数量\n",
    "    counts ={}\n",
    "    for word in words:\n",
    "        counts[word] = counts.get(word,0) + 1\n",
    "    items = list(counts.items())\n",
    "    #大到小快速排序\n",
    "    items.sort(key=lambda x:x[1], reverse=True)\n",
    "    return items"
   ]
  },
  {
   "cell_type": "markdown",
   "metadata": {},
   "source": [
    "# 第三步：数据库操作"
   ]
  },
  {
   "cell_type": "code",
   "execution_count": 128,
   "metadata": {},
   "outputs": [],
   "source": [
    "import pymysql\n",
    "#连接数据库\n",
    "def connectdb():\n",
    "    localhost = \" localhost\"\n",
    "    username = \"root\"\n",
    "    password = \"123456\"\n",
    "    DBname = \"test\"\n",
    "    #print('连接到mysql服务器...')\n",
    "    # 打开数据库连接\n",
    "    db = pymysql.connect(localhost,username,password,DBname)\n",
    "    #print('连接上了!')\n",
    "    return db\n",
    "    \n",
    "#存入数据库,书名，章节，单词，词频\n",
    "def insert(db,bookname,chapter,word, counts):\n",
    "    # 使用cursor()方法获取操作游标 \n",
    "    cursor = db.cursor()\n",
    "    # SQL 插入语句\n",
    "    sql = \"INSERT INTO txtdata(bookname, \\\n",
    "       chapter, word, counts) \\\n",
    "       VALUES ('%s', '%s', '%s',  %s)\" % \\\n",
    "       (bookname, chapter,word, counts)\n",
    "    try:\n",
    "        # 执行sql语句\n",
    "        cursor.execute(sql)\n",
    "        # 执行sql语句\n",
    "        db.commit()\n",
    "    except:\n",
    "        # 发生错误时回滚\n",
    "        db.rollback()\n",
    "\n",
    "#查询数据库\n",
    "def select(sql):\n",
    "    #连接数据库\n",
    "    db= connectdb()\n",
    "    # 使用cursor()方法获取操作游标 \n",
    "    cursor = db.cursor()\n",
    "    try:\n",
    "        #记录总的次数\n",
    "        count = 0\n",
    "        # 执行SQL语句\n",
    "        cursor.execute(sql)\n",
    "        # 获取所有记录列表\n",
    "        results = cursor.fetchall()\n",
    "        for row in results:\n",
    "            bookname = row[0]\n",
    "            chapter = row[1]\n",
    "            counts = row[2]\n",
    "            count += counts\n",
    "            # 打印结果\n",
    "            print (\"书名:%s \\t 章节：%s \\t 词频：%d\" %(bookname,chapter,counts))\n",
    "        print(\"总的出现频率为：%d\"%(count))\n",
    "    except:\n",
    "        print (\"词库无此单词！！！\")\n",
    "    # 关闭数据库连接\n",
    "    db.close()  \n",
    "    \n",
    "#按单词查询所有的词频记录\n",
    "def select_by_word(word):\n",
    "    # SQL 查询语句\n",
    "    sql = \"SELECT bookname, chapter,counts FROM txtdata WHERE trim(replace(word,' ','')) = trim(replace('%s',' ',''))\" % (word)\n",
    "    #调用查询函数\n",
    "    select(sql)\n",
    "    \n",
    "#查询指定书的查询指定单词的词频\n",
    "def select_by_bookname(bookname,word):\n",
    "    # SQL 查询语句\n",
    "    sql = \"SELECT bookname, chapter,counts FROM txtdata WHERE trim(replace(bookname,' ','')) =\\\n",
    "    trim(replace('%s',' ','')) and trim(replace(word,' ','')) = trim(replace('%s',' ',''))\" % (bookname,word)\n",
    "    #调用查询函数\n",
    "    select(sql)"
   ]
  },
  {
   "cell_type": "markdown",
   "metadata": {},
   "source": [
    "# 第四步：存储数据，查询词频"
   ]
  },
  {
   "cell_type": "code",
   "execution_count": 82,
   "metadata": {},
   "outputs": [],
   "source": [
    "#存入数据库主函数\n",
    "def insert_main(filename):\n",
    "    #filename = 'Jane_Eyre.txt'\n",
    "    #读取数据\n",
    "    data=get_data(filename)\n",
    "    #获取章节单词 ,key=\"CHAPTER\",章节分割词库\n",
    "    key=\"CHAPTER\"\n",
    "    #录入信息条数\n",
    "    count = 0\n",
    "    \n",
    "     #连接数据库\n",
    "    db= connectdb()\n",
    "\n",
    "    chapter_words = get_chapter_word(key ,data)\n",
    "    for i in range(len(chapter_words)):\n",
    "        if i == 0:\n",
    "            continue\n",
    "        else:\n",
    "            chapter,chapter_word = chapter_words[i]\n",
    "            chapter_word = chapter_word.rstrip().lstrip()\n",
    "            #按按章节进行词频统计\n",
    "            items = word_count(chapter_word)\n",
    "            for j in range(len(items)):\n",
    "                word, counts= items[j]\n",
    "                #print(\"{0:<10}{1:>5}\".format(word, count))\n",
    "                try:\n",
    "                    #存入数据库,书名，章节，单词，词频\n",
    "                    insert(db,chapter_words[0][1],chapter,word, counts)\n",
    "                except:\n",
    "                    continue\n",
    "                count+=1\n",
    "        print(\"已录入%d章节的数据》》》\"%(i))\n",
    "    # 关闭数据库连接\n",
    "    db.close()  \n",
    "    print(\"本次总共录入%d条数据\"%(count))"
   ]
  },
  {
   "cell_type": "code",
   "execution_count": 60,
   "metadata": {},
   "outputs": [],
   "source": [
    "#按单词查询主函数\n",
    "def select_main():\n",
    "    word = input(\"请输入你要查询的单词：\")\n",
    "    word = word.lower()\n",
    "    print(\"\\n查询结果：\\n\")\n",
    "    select_by_word(word)"
   ]
  },
  {
   "cell_type": "code",
   "execution_count": 67,
   "metadata": {},
   "outputs": [],
   "source": [
    "##查询指定书的查询指定单词的词频主函数\n",
    "def select_by_bookname_main():\n",
    "    bookname = input(\"请输入书名：\")\n",
    "    word = input(\"\\n请输入你要查询的单词：\")\n",
    "    word = word.lower()\n",
    "    print(\"\\n查询结果：\\n\")\n",
    "    select_by_bookname(bookname,word)"
   ]
  },
  {
   "cell_type": "markdown",
   "metadata": {},
   "source": [
    "# 第五步：测试"
   ]
  },
  {
   "cell_type": "markdown",
   "metadata": {},
   "source": [
    "## 存入数据库"
   ]
  },
  {
   "cell_type": "code",
   "execution_count": 45,
   "metadata": {},
   "outputs": [
    {
     "name": "stdout",
     "output_type": "stream",
     "text": [
      "已录入1章节的数据》》》\n",
      "已录入2章节的数据》》》\n",
      "已录入3章节的数据》》》\n",
      "已录入4章节的数据》》》\n",
      "已录入5章节的数据》》》\n",
      "已录入6章节的数据》》》\n",
      "已录入7章节的数据》》》\n",
      "已录入8章节的数据》》》\n",
      "已录入9章节的数据》》》\n",
      "已录入10章节的数据》》》\n",
      "已录入11章节的数据》》》\n",
      "已录入12章节的数据》》》\n",
      "已录入13章节的数据》》》\n",
      "已录入14章节的数据》》》\n",
      "已录入15章节的数据》》》\n",
      "已录入16章节的数据》》》\n",
      "已录入17章节的数据》》》\n",
      "已录入18章节的数据》》》\n",
      "已录入19章节的数据》》》\n",
      "已录入20章节的数据》》》\n",
      "已录入21章节的数据》》》\n",
      "已录入22章节的数据》》》\n",
      "已录入23章节的数据》》》\n",
      "已录入24章节的数据》》》\n",
      "已录入25章节的数据》》》\n",
      "已录入26章节的数据》》》\n",
      "已录入27章节的数据》》》\n",
      "已录入28章节的数据》》》\n",
      "已录入29章节的数据》》》\n",
      "已录入30章节的数据》》》\n",
      "已录入31章节的数据》》》\n",
      "已录入32章节的数据》》》\n",
      "已录入33章节的数据》》》\n",
      "已录入34章节的数据》》》\n",
      "已录入35章节的数据》》》\n",
      "已录入36章节的数据》》》\n",
      "已录入37章节的数据》》》\n",
      "已录入38章节的数据》》》\n",
      "已录入39章节的数据》》》\n",
      "已录入40章节的数据》》》\n",
      "已录入41章节的数据》》》\n",
      "已录入42章节的数据》》》\n",
      "已录入43章节的数据》》》\n",
      "已录入44章节的数据》》》\n",
      "本次总共录入%d条数据\n",
      "已录入1章节的数据》》》\n",
      "已录入2章节的数据》》》\n",
      "已录入3章节的数据》》》\n",
      "已录入4章节的数据》》》\n",
      "已录入5章节的数据》》》\n",
      "已录入6章节的数据》》》\n",
      "已录入7章节的数据》》》\n",
      "已录入8章节的数据》》》\n",
      "已录入9章节的数据》》》\n",
      "已录入10章节的数据》》》\n",
      "已录入11章节的数据》》》\n",
      "已录入12章节的数据》》》\n",
      "已录入13章节的数据》》》\n",
      "本次总共录入%d条数据\n"
     ]
    }
   ],
   "source": [
    "# txt文件和当前脚本在同一目录下，所以不用写具体路径\n",
    "filename_path = ['Two_Cities.txt','Jane_Eyre.txt']\n",
    "for filename in filename_path:\n",
    "    #存入数据库\n",
    "   # insert_main(filename)"
   ]
  },
  {
   "cell_type": "markdown",
   "metadata": {},
   "source": [
    "## 按单词查询所有"
   ]
  },
  {
   "cell_type": "code",
   "execution_count": 123,
   "metadata": {},
   "outputs": [
    {
     "name": "stdout",
     "output_type": "stream",
     "text": [
      "请输入你要查询的单词：the\n",
      "\n",
      "查询结果：\n",
      "\n",
      "书名: Two Cities \t 章节：CHAPTER1 \t 词频：79\n",
      "书名: Two Cities \t 章节：CHAPTER2 \t 词频：194\n",
      "书名: Two Cities \t 章节：CHAPTER3 \t 词频：123\n",
      "书名: Two Cities \t 章节：CHAPTER4 \t 词频：203\n",
      "书名: Two Cities \t 章节：CHAPTER5 \t 词频：284\n",
      "书名: Two Cities \t 章节：CHAPTER6 \t 词频：331\n",
      "书名: Two Cities \t 章节：CHAPTER7 \t 词频：171\n",
      "书名: Two Cities \t 章节：CHAPTER8 \t 词频：298\n",
      "书名: Two Cities \t 章节：CHAPTER9 \t 词频：89\n",
      "书名: Two Cities \t 章节：CHAPTER10 \t 词频：137\n",
      "书名: Two Cities \t 章节：CHAPTER11 \t 词频：228\n",
      "书名: Two Cities \t 章节：CHAPTER12 \t 词频：263\n",
      "书名: Two Cities \t 章节：CHAPTER13 \t 词频：166\n",
      "书名: Two Cities \t 章节：CHAPTER14 \t 词频：348\n",
      "书名: Two Cities \t 章节：CHAPTER15 \t 词频：94\n",
      "书名: Two Cities \t 章节：CHAPTER16 \t 词频：41\n",
      "书名: Two Cities \t 章节：CHAPTER17 \t 词频：102\n",
      "书名: Two Cities \t 章节：CHAPTER18 \t 词频：56\n",
      "书名: Two Cities \t 章节：CHAPTER19 \t 词频：212\n",
      "书名: Two Cities \t 章节：CHAPTER20 \t 词频：87\n",
      "书名: Two Cities \t 章节：CHAPTER21 \t 词频：284\n",
      "书名: Two Cities \t 章节：CHAPTER22 \t 词频：208\n",
      "书名: Two Cities \t 章节：CHAPTER23 \t 词频：118\n",
      "书名: Two Cities \t 章节：CHAPTER24 \t 词频：152\n",
      "书名: Two Cities \t 章节：CHAPTER25 \t 词频：34\n",
      "书名: Two Cities \t 章节：CHAPTER26 \t 词频：264\n",
      "书名: Two Cities \t 章节：CHAPTER27 \t 词频：145\n",
      "书名: Two Cities \t 章节：CHAPTER28 \t 词频：232\n",
      "书名: Two Cities \t 章节：CHAPTER29 \t 词频：252\n",
      "书名: Two Cities \t 章节：CHAPTER30 \t 词频：296\n",
      "书名: Two Cities \t 章节：CHAPTER31 \t 词频：167\n",
      "书名: Two Cities \t 章节：CHAPTER32 \t 词频：78\n",
      "书名: Two Cities \t 章节：CHAPTER33 \t 词频：178\n",
      "书名: Two Cities \t 章节：CHAPTER34 \t 词频：121\n",
      "书名: Two Cities \t 章节：CHAPTER35 \t 词频：191\n",
      "书名: Two Cities \t 章节：CHAPTER36 \t 词频：106\n",
      "书名: Two Cities \t 章节：CHAPTER37 \t 词频：227\n",
      "书名: Two Cities \t 章节：CHAPTER38 \t 词频：270\n",
      "书名: Two Cities \t 章节：CHAPTER39 \t 词频：352\n",
      "书名: Two Cities \t 章节：CHAPTER40 \t 词频：53\n",
      "书名: Two Cities \t 章节：CHAPTER41 \t 词频：146\n",
      "书名: Two Cities \t 章节：CHAPTER42 \t 词频：252\n",
      "书名: Two Cities \t 章节：CHAPTER43 \t 词频：204\n",
      "书名: Two Cities \t 章节：CHAPTER44 \t 词频：150\n",
      "书名: Jane Eyre \t 章节：CHAPTER1 \t 词频：86\n",
      "书名: Jane Eyre \t 章节：CHAPTER2 \t 词频：104\n",
      "书名: Jane Eyre \t 章节：CHAPTER3 \t 词频：118\n",
      "书名: Jane Eyre \t 章节：CHAPTER4 \t 词频：203\n",
      "书名: Jane Eyre \t 章节：CHAPTER5 \t 词频：264\n",
      "书名: Jane Eyre \t 章节：CHAPTER6 \t 词频：110\n",
      "书名: Jane Eyre \t 章节：CHAPTER7 \t 词频：178\n",
      "书名: Jane Eyre \t 章节：CHAPTER8 \t 词频：90\n",
      "书名: Jane Eyre \t 章节：CHAPTER9 \t 词频：128\n",
      "书名: Jane Eyre \t 章节：CHAPTER10 \t 词频：179\n",
      "书名: Jane Eyre \t 章节：CHAPTER11 \t 词频：250\n",
      "书名: Jane Eyre \t 章节：CHAPTER12 \t 词频：164\n",
      "书名: Jane Eyre \t 章节：CHAPTER13 \t 词频：160\n",
      "总的出现频率为：10020\n"
     ]
    }
   ],
   "source": [
    " #查询1\n",
    "select_main()"
   ]
  },
  {
   "cell_type": "markdown",
   "metadata": {},
   "source": [
    "## 按指定书名查询指定单词的词频"
   ]
  },
  {
   "cell_type": "code",
   "execution_count": 129,
   "metadata": {},
   "outputs": [
    {
     "name": "stdout",
     "output_type": "stream",
     "text": [
      "请输入书名：Jane Eyre\n",
      "\n",
      "请输入你要查询的单词：the\n",
      "\n",
      "查询结果：\n",
      "\n",
      "书名: Jane Eyre \t 章节：CHAPTER1 \t 词频：86\n",
      "书名: Jane Eyre \t 章节：CHAPTER2 \t 词频：104\n",
      "书名: Jane Eyre \t 章节：CHAPTER3 \t 词频：118\n",
      "书名: Jane Eyre \t 章节：CHAPTER4 \t 词频：203\n",
      "书名: Jane Eyre \t 章节：CHAPTER5 \t 词频：264\n",
      "书名: Jane Eyre \t 章节：CHAPTER6 \t 词频：110\n",
      "书名: Jane Eyre \t 章节：CHAPTER7 \t 词频：178\n",
      "书名: Jane Eyre \t 章节：CHAPTER8 \t 词频：90\n",
      "书名: Jane Eyre \t 章节：CHAPTER9 \t 词频：128\n",
      "书名: Jane Eyre \t 章节：CHAPTER10 \t 词频：179\n",
      "书名: Jane Eyre \t 章节：CHAPTER11 \t 词频：250\n",
      "书名: Jane Eyre \t 章节：CHAPTER12 \t 词频：164\n",
      "书名: Jane Eyre \t 章节：CHAPTER13 \t 词频：160\n",
      "总的出现频率为：2034\n"
     ]
    }
   ],
   "source": [
    " #查询2\n",
    "select_by_bookname_main()"
   ]
  },
  {
   "cell_type": "code",
   "execution_count": null,
   "metadata": {},
   "outputs": [],
   "source": []
  }
 ],
 "metadata": {
  "kernelspec": {
   "display_name": "Python 3",
   "language": "python",
   "name": "python3"
  },
  "language_info": {
   "codemirror_mode": {
    "name": "ipython",
    "version": 3
   },
   "file_extension": ".py",
   "mimetype": "text/x-python",
   "name": "python",
   "nbconvert_exporter": "python",
   "pygments_lexer": "ipython3",
   "version": "3.7.3"
  }
 },
 "nbformat": 4,
 "nbformat_minor": 2
}
